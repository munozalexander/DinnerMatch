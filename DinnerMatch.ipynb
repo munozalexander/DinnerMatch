{
 "cells": [
  {
   "cell_type": "markdown",
   "metadata": {},
   "source": [
    "# DinnerMatch\n",
    "*** By Alexander Munoz ***"
   ]
  },
  {
   "cell_type": "code",
   "execution_count": 1,
   "metadata": {
    "collapsed": false
   },
   "outputs": [],
   "source": [
    "import pandas as pd\n",
    "import numpy as np\n",
    "from itertools import izip_longest\n",
    "from itertools import chain"
   ]
  },
  {
   "cell_type": "code",
   "execution_count": 2,
   "metadata": {
    "collapsed": true
   },
   "outputs": [],
   "source": [
    "def grouper(iterable, n, fillvalue=None):\n",
    "    \"Collect data into fixed-length chunks or blocks\"\n",
    "    # Taken from itertools recipes:\n",
    "    # https://docs.python.org/2/library/itertools.html#recipes\n",
    "    # grouper('ABCDEFG', 3, 'x') --> ABC DEF Gxx\n",
    "    args = [iter(iterable)] * n\n",
    "    return izip_longest(fillvalue=fillvalue, *args)"
   ]
  },
  {
   "cell_type": "code",
   "execution_count": 3,
   "metadata": {
    "collapsed": false,
    "scrolled": false
   },
   "outputs": [
    {
     "name": "stdout",
     "output_type": "stream",
     "text": [
      "(72, 4)\n"
     ]
    }
   ],
   "source": [
    "data = pd.read_csv('data.csv')\n",
    "data = data.ix[:,[1,2,6,8,9]]\n",
    "data.columns = ['name', 'email', 'times', 'friend_name', 'friend_email']\n",
    "data = data.drop(57) #one student accidentally filled out the form twice, drop one submission\n",
    "data = data.set_index('name')\n",
    "print data.shape\n",
    "#data.head()"
   ]
  },
  {
   "cell_type": "code",
   "execution_count": 9,
   "metadata": {
    "collapsed": false
   },
   "outputs": [
    {
     "name": "stdout",
     "output_type": "stream",
     "text": [
      "Thursday, 3/2  6:00\n",
      "[ ( _name_ ,  _name_ ,  _name_ ,  ) ]\n",
      "\n",
      "Saturday, 3/4  5:00\n",
      "[ ( _name_ ,  _name_ ,  _name_ ,  ) ]\n",
      "\n",
      "Wednesday, 3/8  5:00\n",
      "[ ( _name_ ,  _name_ ,  _name_ ,  ) ]\n",
      "\n",
      "Tuesday, 2/28  6:00\n",
      "[ ( _name_ ,  _name_ ,  _name_ ,  _name_ ,  ) ( _name_ ,  _name_ ,  _name_ ,  _name_ ,  ) ]\n",
      "\n",
      "Saturday, 3/4  6:00\n",
      "[ ( _name_ ,  _name_ ,  _name_ ,  _name_ ,  ) ]\n",
      "\n",
      "Wednesday, 3/8  6:00\n",
      "[ ( _name_ ,  _name_ ,  _name_ ,  ) ]\n",
      "\n",
      "Tuesday, 3/7  5:00\n",
      "[ ( _name_ ,  _name_ ,  _name_ ,  ) ( _name_ ,  _name_ ,  _name_ ,  ) ( _name_ ,  _name_ ,  _name_ ,  ) ( _name_ ,  _name_ ,  _name_ ,  ) ( _name_ ,  _name_ ,  _name_ ,  ) ( _name_ ,  _name_ ,  _name_ ,  ) ( _name_ ,  _name_ ,  _name_ ,  ) ( _name_ ,  _name_ ,  _name_ ,  ) ( _name_ ,  _name_ ,  _name_ ,  ) ( _name_ ,  _name_ ,  _name_ ,  ) ]\n",
      "\n",
      "Friday, 3/3  6:30\n",
      "[ ( _name_ ,  _name_ ,  _name_ ,  ) ( _name_ ,  _name_ ,  _name_ ,  ) ( _name_ ,  _name_ ,  _name_ ,  ) ( _name_ ,  _name_ ,  _name_ ,  ) ( _name_ ,  _name_ ,  _name_ ,  ) ( _name_ ,  _name_ ,  _name_ ,  ) ( _name_ ,  _name_ ,  _name_ ,  ) ]\n",
      "\n",
      "Thursday, 3/9  6:30\n",
      "[ ( _name_ ,  _name_ ,  _name_ ,  ) ]\n",
      "\n"
     ]
    }
   ],
   "source": [
    "while(True): #loop until successful match with no students leftover\n",
    "    times_dict = dict() #key is name, value is list of available times\n",
    "    for i in range(len(data['times'])):\n",
    "        time_list_buffer = data['times'][i].split('pm, ') #split times\n",
    "        time_list_buffer[-1] = time_list_buffer[-1][:-2] #remove last 'pm'\n",
    "        times_dict[data.index.values[i]] = time_list_buffer\n",
    "\n",
    "    times_options = set() #determine total time options students had to choose from, shuffled\n",
    "    for person in times_dict:\n",
    "        times_options = times_options.union(set(times_dict[person]))\n",
    "    times_options = list(times_options)\n",
    "    np.random.shuffle(times_options)\n",
    "\n",
    "    # NOTE: remove time options from Monday, as the dining hall is closed that day\n",
    "    times_options = [x for x in times_options if x not in \\\n",
    "     ['Monday, 2/27  5:00', 'Monday, 2/27  6:30', 'Monday, 2/27  6:00']]\n",
    "\n",
    "    result_dict = dict()\n",
    "    for curr_time in times_options:\n",
    "        curr_time_availables = []\n",
    "        for person in times_dict:\n",
    "            if curr_time in times_dict[person]:\n",
    "                curr_time_availables.append(person)\n",
    "        if len(curr_time_availables) == 1:\n",
    "            pass\n",
    "        else:\n",
    "            np.random.shuffle(curr_time_availables)\n",
    "            if len(curr_time_availables) % 3 == 0 or len(curr_time_availables) % 3 == 2:\n",
    "                result_dict[curr_time] = list(grouper(curr_time_availables, 3))\n",
    "            else:\n",
    "                result_dict[curr_time] = list(grouper(curr_time_availables, 4))\n",
    "            for p in curr_time_availables:\n",
    "                times_dict.pop(p) #remove people who have been picked, so they don't get picked twice\n",
    "\n",
    "    times_to_pop = [] #delete empty times\n",
    "    for t in result_dict:\n",
    "        if result_dict[t] == []:\n",
    "            times_to_pop.append(t)\n",
    "    for p in times_to_pop:\n",
    "        result_dict.pop(p)\n",
    "    \n",
    "    if not bool(times_dict): #if all students have been sorted, break\n",
    "        break\n",
    "\n",
    "#pretty print results\n",
    "for t in result_dict:\n",
    "    print t\n",
    "    print '[',\n",
    "    for pair in result_dict[t]:\n",
    "        print '(',\n",
    "        for name in pair:\n",
    "            print '_name_', ', ',\n",
    "        print ')',\n",
    "    print ']'\n",
    "    print"
   ]
  },
  {
   "cell_type": "code",
   "execution_count": 10,
   "metadata": {
    "collapsed": false,
    "scrolled": false
   },
   "outputs": [],
   "source": [
    "names = []\n",
    "for timepoint in result_dict:\n",
    "    for pairing in result_dict[timepoint]:\n",
    "        for name in list(pairing):\n",
    "            if str(name) != 'None':\n",
    "                names.append(name)\n",
    "                \n",
    "emails = [data.ix[n,'email'] for n in names]\n",
    "emails_out = pd.DataFrame(emails, index=names, columns=['email'])\n",
    "#emails_out.head()"
   ]
  },
  {
   "cell_type": "code",
   "execution_count": 32,
   "metadata": {
    "collapsed": true
   },
   "outputs": [],
   "source": [
    "#save emails\n",
    "emails_out.to_csv('emails_out.csv', sep=',')"
   ]
  }
 ],
 "metadata": {
  "anaconda-cloud": {},
  "kernelspec": {
   "display_name": "Python [Root]",
   "language": "python",
   "name": "Python [Root]"
  },
  "language_info": {
   "codemirror_mode": {
    "name": "ipython",
    "version": 2
   },
   "file_extension": ".py",
   "mimetype": "text/x-python",
   "name": "python",
   "nbconvert_exporter": "python",
   "pygments_lexer": "ipython2",
   "version": "2.7.12"
  }
 },
 "nbformat": 4,
 "nbformat_minor": 0
}
