{
 "cells": [
  {
   "cell_type": "markdown",
   "metadata": {},
   "source": [
    "# DinnerMatch\n",
    "*** By Alexander Munoz ***"
   ]
  },
  {
   "cell_type": "code",
   "execution_count": 1,
   "metadata": {
    "collapsed": false
   },
   "outputs": [],
   "source": [
    "import pandas as pd\n",
    "import numpy as np\n",
    "from itertools import izip_longest\n",
    "from itertools import chain"
   ]
  },
  {
   "cell_type": "code",
   "execution_count": 2,
   "metadata": {
    "collapsed": true
   },
   "outputs": [],
   "source": [
    "def grouper(iterable, n, fillvalue=None):\n",
    "    \"Collect data into fixed-length chunks or blocks\"\n",
    "    # Taken from itertools recipes:\n",
    "    # https://docs.python.org/2/library/itertools.html#recipes\n",
    "    # grouper('ABCDEFG', 3, 'x') --> ABC DEF Gxx\n",
    "    args = [iter(iterable)] * n\n",
    "    return izip_longest(fillvalue=fillvalue, *args)"
   ]
  },
  {
   "cell_type": "code",
   "execution_count": 3,
   "metadata": {
    "collapsed": false,
    "scrolled": false
   },
   "outputs": [
    {
     "name": "stdout",
     "output_type": "stream",
     "text": [
      "(72, 4)\n"
     ]
    },
    {
     "data": {
      "text/html": [
       "<div>\n",
       "<table border=\"1\" class=\"dataframe\">\n",
       "  <thead>\n",
       "    <tr style=\"text-align: right;\">\n",
       "      <th></th>\n",
       "      <th>email</th>\n",
       "      <th>times</th>\n",
       "      <th>friend_name</th>\n",
       "      <th>friend_email</th>\n",
       "    </tr>\n",
       "    <tr>\n",
       "      <th>name</th>\n",
       "      <th></th>\n",
       "      <th></th>\n",
       "      <th></th>\n",
       "      <th></th>\n",
       "    </tr>\n",
       "  </thead>\n",
       "  <tbody>\n",
       "    <tr>\n",
       "      <th>Eesha Khare</th>\n",
       "      <td>ekhare@college.harvard.edu</td>\n",
       "      <td>Wednesday, 3/8  6:00pm, Wednesday, 3/8  6:30pm...</td>\n",
       "      <td>Anne Deng</td>\n",
       "      <td>annedeng@college.harvard.edu</td>\n",
       "    </tr>\n",
       "    <tr>\n",
       "      <th>Kamara Swaby</th>\n",
       "      <td>kswaby01@college.harvard.edu</td>\n",
       "      <td>Monday, 2/27  5:00pm, Monday, 2/27  6:00pm, Mo...</td>\n",
       "      <td>NaN</td>\n",
       "      <td>NaN</td>\n",
       "    </tr>\n",
       "    <tr>\n",
       "      <th>Jacob Meyerson</th>\n",
       "      <td>jacobmeyerson@college.harvard.edu</td>\n",
       "      <td>Friday, 3/3  6:30pm, Tuesday, 3/7  6:30pm, Wed...</td>\n",
       "      <td>NaN</td>\n",
       "      <td>NaN</td>\n",
       "    </tr>\n",
       "    <tr>\n",
       "      <th>Pieter weemaes</th>\n",
       "      <td>Pweemaes@college.harvard.edu</td>\n",
       "      <td>Monday, 2/27  5:00pm, Monday, 2/27  6:00pm, Mo...</td>\n",
       "      <td>NaN</td>\n",
       "      <td>NaN</td>\n",
       "    </tr>\n",
       "    <tr>\n",
       "      <th>Russell Pekala</th>\n",
       "      <td>russellpekala@college.harvard.edu</td>\n",
       "      <td>Monday, 2/27  6:00pm, Monday, 2/27  6:30pm, Tu...</td>\n",
       "      <td>NaN</td>\n",
       "      <td>NaN</td>\n",
       "    </tr>\n",
       "  </tbody>\n",
       "</table>\n",
       "</div>"
      ],
      "text/plain": [
       "                                            email  \\\n",
       "name                                                \n",
       "Eesha Khare            ekhare@college.harvard.edu   \n",
       "Kamara Swaby         kswaby01@college.harvard.edu   \n",
       "Jacob Meyerson  jacobmeyerson@college.harvard.edu   \n",
       "Pieter weemaes       Pweemaes@college.harvard.edu   \n",
       "Russell Pekala  russellpekala@college.harvard.edu   \n",
       "\n",
       "                                                            times friend_name  \\\n",
       "name                                                                            \n",
       "Eesha Khare     Wednesday, 3/8  6:00pm, Wednesday, 3/8  6:30pm...   Anne Deng   \n",
       "Kamara Swaby    Monday, 2/27  5:00pm, Monday, 2/27  6:00pm, Mo...         NaN   \n",
       "Jacob Meyerson  Friday, 3/3  6:30pm, Tuesday, 3/7  6:30pm, Wed...         NaN   \n",
       "Pieter weemaes  Monday, 2/27  5:00pm, Monday, 2/27  6:00pm, Mo...         NaN   \n",
       "Russell Pekala  Monday, 2/27  6:00pm, Monday, 2/27  6:30pm, Tu...         NaN   \n",
       "\n",
       "                                friend_email  \n",
       "name                                          \n",
       "Eesha Khare     annedeng@college.harvard.edu  \n",
       "Kamara Swaby                             NaN  \n",
       "Jacob Meyerson                           NaN  \n",
       "Pieter weemaes                           NaN  \n",
       "Russell Pekala                           NaN  "
      ]
     },
     "execution_count": 3,
     "metadata": {},
     "output_type": "execute_result"
    }
   ],
   "source": [
    "data = pd.read_csv('data.csv')\n",
    "data = data.ix[:,[1,2,6,8,9]]\n",
    "data.columns = ['name', 'email', 'times', 'friend_name', 'friend_email']\n",
    "data = data.drop(57) #one student accidentally filled out the form twice, drop one submission\n",
    "data = data.set_index('name')\n",
    "print data.shape\n",
    "data.head()"
   ]
  },
  {
   "cell_type": "code",
   "execution_count": 29,
   "metadata": {
    "collapsed": false
   },
   "outputs": [
    {
     "name": "stdout",
     "output_type": "stream",
     "text": [
      "Thursday, 3/2  6:00\n",
      "[('Christian Floyd', 'Siqi Liu', 'Cynthia Kim'), ('Weimer Macuri-Espinoza', 'Steph Ferrarie', 'Amanda Brandt'), ('Russell Pekala', 'Devon Black', 'Nakoa Farrant'), ('Brad Riew', 'Jen Xu', 'Gita Abhiraman'), ('William Chang', 'Belle Lee', \"Camille N'Diaye-Muller\"), ('Wyatt Mackey', 'Kamara Swaby', 'Cass Hastie'), ('AJ Protin', 'Kathryn Kearney', 'Anna Lea Albright'), ('Ben Chen', 'Katie Smilow ', 'Peter Tian'), ('Joey Colton', 'Tony Lin', 'Victoria')]\n",
      "\n",
      "Saturday, 3/4  5:00\n",
      "[('Elaine', 'Stephanie Guo', None)]\n",
      "\n",
      "Wednesday, 3/8  5:00\n",
      "[('Charlotte Anrig', 'Eliza Llewellyn', None)]\n",
      "\n",
      "Tuesday, 2/28  6:30\n",
      "[('Sophia Samutin ', 'Lucas Cassels', None)]\n",
      "\n",
      "Monday, 3/6  6:30\n",
      "[('Brooke Bourgeois', 'Lethu Ntshinga', 'Francesca Noelette '), ('Annie Frost', 'Ruiqi He', 'Noemi Urquiza'), ('Justin Fox', 'Arlesia McGowan', None)]\n",
      "\n",
      "Tuesday, 3/7  6:00\n",
      "[('Molly Leavens', 'Walker Maeder-York', 'Natalie Vega'), ('Jenna Gray', 'Andrea Schoenberg', 'Chris Jury'), ('Cecilia Yao', 'Mia Vitale', 'Pieter weemaes'), ('Joey Kubicki', 'Malaaz Ghandour', 'Sarah Wu'), ('Mark Steinbach', 'Ying Guo', 'Andrew Mayo'), ('Jason Goodman', 'Natalie Antunez', 'Meredith Clark'), ('Serena', 'Michael Ge', None)]\n",
      "\n",
      "Wednesday, 3/8  6:00\n",
      "[('Eva Miller', 'noemi valdez', 'Eesha Khare')]\n",
      "\n",
      "Friday, 3/3  6:30\n",
      "[('Uju Nwosu', 'Eric Po', 'Jullian Duran'), ('Eva DiIanni-Miller', 'Chinaza', 'Cecil '), ('Jacob Meyerson', 'Celeste Mendoza', None)]\n",
      "\n"
     ]
    }
   ],
   "source": [
    "while(True): #loop until successful match with no students leftover\n",
    "    times_dict = dict() #key is name, value is list of available times\n",
    "    for i in range(len(data['times'])):\n",
    "        time_list_buffer = data['times'][i].split('pm, ') #split times\n",
    "        time_list_buffer[-1] = time_list_buffer[-1][:-2] #remove last 'pm'\n",
    "        times_dict[data.index.values[i]] = time_list_buffer\n",
    "\n",
    "    times_options = set() #determine total time options students had to choose from, shuffled\n",
    "    for person in times_dict:\n",
    "        times_options = times_options.union(set(times_dict[person]))\n",
    "    times_options = list(times_options)\n",
    "    np.random.shuffle(times_options)\n",
    "\n",
    "    # NOTE: remove time options from Monday, as the dining hall is closed that day\n",
    "    times_options = [x for x in times_options if x not in \\\n",
    "     ['Monday, 2/27  5:00', 'Monday, 2/27  6:30', 'Monday, 2/27  6:00']]\n",
    "\n",
    "    result_dict = dict()\n",
    "    for curr_time in times_options:\n",
    "        curr_time_availables = []\n",
    "        for person in times_dict:\n",
    "            if curr_time in times_dict[person]:\n",
    "                curr_time_availables.append(person)\n",
    "        if len(curr_time_availables) == 1:\n",
    "            pass\n",
    "        else:\n",
    "            np.random.shuffle(curr_time_availables)\n",
    "            if len(curr_time_availables) % 3 == 0 or len(curr_time_availables) % 3 == 2:\n",
    "                result_dict[curr_time] = list(grouper(curr_time_availables, 3))\n",
    "            else:\n",
    "                result_dict[curr_time] = list(grouper(curr_time_availables, 4))\n",
    "            for p in curr_time_availables:\n",
    "                times_dict.pop(p) #remove people who have been picked, so they don't get picked twice\n",
    "\n",
    "    times_to_pop = [] #delete empty times\n",
    "    for t in result_dict:\n",
    "        if result_dict[t] == []:\n",
    "            times_to_pop.append(t)\n",
    "    for p in times_to_pop:\n",
    "        result_dict.pop(p)\n",
    "    \n",
    "    if not bool(times_dict): #if all students have been sorted, break\n",
    "        break\n",
    "\n",
    "#pretty print results\n",
    "for t in result_dict:\n",
    "    print t\n",
    "    print result_dict[t]\n",
    "    print"
   ]
  },
  {
   "cell_type": "code",
   "execution_count": 31,
   "metadata": {
    "collapsed": false,
    "scrolled": false
   },
   "outputs": [
    {
     "data": {
      "text/html": [
       "<div>\n",
       "<table border=\"1\" class=\"dataframe\">\n",
       "  <thead>\n",
       "    <tr style=\"text-align: right;\">\n",
       "      <th></th>\n",
       "      <th>email</th>\n",
       "    </tr>\n",
       "  </thead>\n",
       "  <tbody>\n",
       "    <tr>\n",
       "      <th>Christian Floyd</th>\n",
       "      <td>christianfloyd@college.harvard.edu</td>\n",
       "    </tr>\n",
       "    <tr>\n",
       "      <th>Siqi Liu</th>\n",
       "      <td>siqiliu@college.harvard.edu</td>\n",
       "    </tr>\n",
       "    <tr>\n",
       "      <th>Cynthia Kim</th>\n",
       "      <td>cynthiakim@college.harvard.edu</td>\n",
       "    </tr>\n",
       "    <tr>\n",
       "      <th>Weimer Macuri-Espinoza</th>\n",
       "      <td>wmacuriespinoza@college.harvard.edu</td>\n",
       "    </tr>\n",
       "    <tr>\n",
       "      <th>Steph Ferrarie</th>\n",
       "      <td>sferrarie@college.harvard.edu</td>\n",
       "    </tr>\n",
       "  </tbody>\n",
       "</table>\n",
       "</div>"
      ],
      "text/plain": [
       "                                                      email\n",
       "Christian Floyd          christianfloyd@college.harvard.edu\n",
       "Siqi Liu                        siqiliu@college.harvard.edu\n",
       "Cynthia Kim                  cynthiakim@college.harvard.edu\n",
       "Weimer Macuri-Espinoza  wmacuriespinoza@college.harvard.edu\n",
       "Steph Ferrarie                sferrarie@college.harvard.edu"
      ]
     },
     "execution_count": 31,
     "metadata": {},
     "output_type": "execute_result"
    }
   ],
   "source": [
    "names = []\n",
    "for timepoint in result_dict:\n",
    "    for pairing in result_dict[timepoint]:\n",
    "        for name in list(pairing):\n",
    "            if str(name) != 'None':\n",
    "                names.append(name)\n",
    "                \n",
    "emails = [data.ix[n,'email'] for n in names]\n",
    "emails_out = pd.DataFrame(emails, index=names, columns=['email'])\n",
    "emails_out.head()"
   ]
  },
  {
   "cell_type": "code",
   "execution_count": 32,
   "metadata": {
    "collapsed": true
   },
   "outputs": [],
   "source": [
    "#save emails\n",
    "emails_out.to_csv('emails_out.csv', sep=',')"
   ]
  },
  {
   "cell_type": "code",
   "execution_count": null,
   "metadata": {
    "collapsed": true
   },
   "outputs": [],
   "source": []
  }
 ],
 "metadata": {
  "anaconda-cloud": {},
  "kernelspec": {
   "display_name": "Python [Root]",
   "language": "python",
   "name": "Python [Root]"
  },
  "language_info": {
   "codemirror_mode": {
    "name": "ipython",
    "version": 2
   },
   "file_extension": ".py",
   "mimetype": "text/x-python",
   "name": "python",
   "nbconvert_exporter": "python",
   "pygments_lexer": "ipython2",
   "version": "2.7.12"
  }
 },
 "nbformat": 4,
 "nbformat_minor": 0
}
