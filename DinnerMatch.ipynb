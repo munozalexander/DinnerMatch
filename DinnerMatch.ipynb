{
 "cells": [
  {
   "cell_type": "markdown",
   "metadata": {},
   "source": [
    "# DinnerMatch\n",
    "*** By Alexander Munoz ***"
   ]
  },
  {
   "cell_type": "code",
   "execution_count": 60,
   "metadata": {
    "collapsed": false
   },
   "outputs": [],
   "source": [
    "import pandas as pd\n",
    "import numpy as np\n",
    "from itertools import izip_longest\n",
    "from itertools import chain"
   ]
  },
  {
   "cell_type": "code",
   "execution_count": 3,
   "metadata": {
    "collapsed": true
   },
   "outputs": [],
   "source": [
    "def grouper(iterable, n, fillvalue=None):\n",
    "    \"Collect data into fixed-length chunks or blocks\"\n",
    "    # Taken from itertools recipes:\n",
    "    # https://docs.python.org/2/library/itertools.html#recipes\n",
    "    # grouper('ABCDEFG', 3, 'x') --> ABC DEF Gxx\n",
    "    args = [iter(iterable)] * n\n",
    "    return izip_longest(fillvalue=fillvalue, *args)"
   ]
  },
  {
   "cell_type": "code",
   "execution_count": 113,
   "metadata": {
    "collapsed": false,
    "scrolled": false
   },
   "outputs": [
    {
     "name": "stdout",
     "output_type": "stream",
     "text": [
      "(72, 4)\n"
     ]
    },
    {
     "data": {
      "text/html": [
       "<div>\n",
       "<table border=\"1\" class=\"dataframe\">\n",
       "  <thead>\n",
       "    <tr style=\"text-align: right;\">\n",
       "      <th></th>\n",
       "      <th>email</th>\n",
       "      <th>times</th>\n",
       "      <th>friend_name</th>\n",
       "      <th>friend_email</th>\n",
       "    </tr>\n",
       "    <tr>\n",
       "      <th>name</th>\n",
       "      <th></th>\n",
       "      <th></th>\n",
       "      <th></th>\n",
       "      <th></th>\n",
       "    </tr>\n",
       "  </thead>\n",
       "  <tbody>\n",
       "    <tr>\n",
       "      <th>Eesha Khare</th>\n",
       "      <td>ekhare@college.harvard.edu</td>\n",
       "      <td>Wednesday, 3/8  6:00pm, Wednesday, 3/8  6:30pm...</td>\n",
       "      <td>Anne Deng</td>\n",
       "      <td>annedeng@college.harvard.edu</td>\n",
       "    </tr>\n",
       "    <tr>\n",
       "      <th>Kamara Swaby</th>\n",
       "      <td>kswaby01@college.harvard.edu</td>\n",
       "      <td>Monday, 2/27  5:00pm, Monday, 2/27  6:00pm, Mo...</td>\n",
       "      <td>NaN</td>\n",
       "      <td>NaN</td>\n",
       "    </tr>\n",
       "    <tr>\n",
       "      <th>Jacob Meyerson</th>\n",
       "      <td>jacobmeyerson@college.harvard.edu</td>\n",
       "      <td>Friday, 3/3  6:30pm, Tuesday, 3/7  6:30pm, Wed...</td>\n",
       "      <td>NaN</td>\n",
       "      <td>NaN</td>\n",
       "    </tr>\n",
       "    <tr>\n",
       "      <th>Pieter weemaes</th>\n",
       "      <td>Pweemaes@college.harvard.edu</td>\n",
       "      <td>Monday, 2/27  5:00pm, Monday, 2/27  6:00pm, Mo...</td>\n",
       "      <td>NaN</td>\n",
       "      <td>NaN</td>\n",
       "    </tr>\n",
       "    <tr>\n",
       "      <th>Russell Pekala</th>\n",
       "      <td>russellpekala@college.harvard.edu</td>\n",
       "      <td>Monday, 2/27  6:00pm, Monday, 2/27  6:30pm, Tu...</td>\n",
       "      <td>NaN</td>\n",
       "      <td>NaN</td>\n",
       "    </tr>\n",
       "  </tbody>\n",
       "</table>\n",
       "</div>"
      ],
      "text/plain": [
       "                                            email  \\\n",
       "name                                                \n",
       "Eesha Khare            ekhare@college.harvard.edu   \n",
       "Kamara Swaby         kswaby01@college.harvard.edu   \n",
       "Jacob Meyerson  jacobmeyerson@college.harvard.edu   \n",
       "Pieter weemaes       Pweemaes@college.harvard.edu   \n",
       "Russell Pekala  russellpekala@college.harvard.edu   \n",
       "\n",
       "                                                            times friend_name  \\\n",
       "name                                                                            \n",
       "Eesha Khare     Wednesday, 3/8  6:00pm, Wednesday, 3/8  6:30pm...   Anne Deng   \n",
       "Kamara Swaby    Monday, 2/27  5:00pm, Monday, 2/27  6:00pm, Mo...         NaN   \n",
       "Jacob Meyerson  Friday, 3/3  6:30pm, Tuesday, 3/7  6:30pm, Wed...         NaN   \n",
       "Pieter weemaes  Monday, 2/27  5:00pm, Monday, 2/27  6:00pm, Mo...         NaN   \n",
       "Russell Pekala  Monday, 2/27  6:00pm, Monday, 2/27  6:30pm, Tu...         NaN   \n",
       "\n",
       "                                friend_email  \n",
       "name                                          \n",
       "Eesha Khare     annedeng@college.harvard.edu  \n",
       "Kamara Swaby                             NaN  \n",
       "Jacob Meyerson                           NaN  \n",
       "Pieter weemaes                           NaN  \n",
       "Russell Pekala                           NaN  "
      ]
     },
     "execution_count": 113,
     "metadata": {},
     "output_type": "execute_result"
    }
   ],
   "source": [
    "data = pd.read_csv('data.csv')\n",
    "data = data.ix[:,[1,2,6,8,9]]\n",
    "data.columns = ['name', 'email', 'times', 'friend_name', 'friend_email']\n",
    "data = data.drop(57) #one student accidentally filled out the form twice, drop one submission\n",
    "data = data.set_index('name')\n",
    "print data.shape\n",
    "data.head()"
   ]
  },
  {
   "cell_type": "code",
   "execution_count": 154,
   "metadata": {
    "collapsed": false,
    "scrolled": true
   },
   "outputs": [],
   "source": [
    "times_dict = dict() #key is name, value is list of available times\n",
    "for i in range(len(data['times'])):\n",
    "    time_list_buffer = data['times'][i].split('pm, ') #split times\n",
    "    time_list_buffer[-1] = time_list_buffer[-1][:-2] #remove last 'pm'\n",
    "    times_dict[data.index.values[i]] = time_list_buffer"
   ]
  },
  {
   "cell_type": "code",
   "execution_count": 155,
   "metadata": {
    "collapsed": false,
    "scrolled": true
   },
   "outputs": [
    {
     "name": "stdout",
     "output_type": "stream",
     "text": [
      "['Monday, 2/27  5:00', 'Thursday, 3/9  6:30', 'Monday, 2/27  6:00', 'Monday, 3/6  5:00', 'Wednesday, 3/8  6:30', 'Wednesday, 3/1  6:00', 'Thursday, 3/9  6:00', 'Thursday, 3/2  5:00', 'Wednesday, 3/1  5:00', 'Saturday, 3/4  6:00', 'Tuesday, 3/7  6:30', 'Friday, 3/3  6:00', 'Sunday, 3/5  5:00', 'Friday, 3/3  5:00', 'Tuesday, 3/7  6:00', 'Thursday, 3/9  5:00', 'Saturday, 3/4  5:00', 'Wednesday, 3/8  5:00', 'Sunday, 3/5  6:30', 'Tuesday, 2/28  6:00', 'Thursday, 3/2  6:00', 'Monday, 3/6  6:00', 'Monday, 2/27  6:30', 'Tuesday, 2/28  6:30', 'Tuesday, 2/28  5:00', 'Monday, 3/6  6:30', 'Friday, 3/3  6:30', 'Thursday, 3/2  6:30', 'Wednesday, 3/8  6:00', 'Wednesday, 3/1  6:30', 'Tuesday, 3/7  5:00', 'Saturday, 3/4  6:30', 'Sunday, 3/5  6:00']\n"
     ]
    }
   ],
   "source": [
    "times_options = set()\n",
    "for person in times_dict:\n",
    "    times_options = times_options.union(set(times_dict[person]))\n",
    "times_options = list(times_options)\n",
    "np.random.shuffle(times_options)\n",
    "print times_options"
   ]
  },
  {
   "cell_type": "code",
   "execution_count": 156,
   "metadata": {
    "collapsed": false,
    "scrolled": false
   },
   "outputs": [],
   "source": [
    "result_dict = dict()\n",
    "for curr_time in times_options:\n",
    "    curr_time_availables = []\n",
    "    for person in times_dict:\n",
    "        if curr_time in times_dict[person]:\n",
    "            curr_time_availables.append(person)\n",
    "    if len(curr_time_availables) == 1:\n",
    "        pass\n",
    "    else:\n",
    "        np.random.shuffle(curr_time_availables)\n",
    "        if len(curr_time_availables) % 3 == 0 or len(curr_time_availables) % 3 == 2:\n",
    "            result_dict[curr_time] = list(grouper(curr_time_availables, 3))\n",
    "        else:\n",
    "            result_dict[curr_time] = list(grouper(curr_time_availables, 4))\n",
    "        for p in curr_time_availables:\n",
    "            times_dict.pop(p) #remove people who have been picked, so they don't get picked twice"
   ]
  },
  {
   "cell_type": "code",
   "execution_count": 157,
   "metadata": {
    "collapsed": false
   },
   "outputs": [
    {
     "name": "stdout",
     "output_type": "stream",
     "text": [
      "Saturday, 3/4  5:00\n",
      "[('Gita Abhiraman', 'Elaine', None)]\n",
      "\n",
      "Monday, 2/27  5:00\n",
      "[('Mia Vitale', 'Eric Po', 'Devon Black'), ('Justin Fox', 'Arlesia McGowan', 'Cass Hastie'), ('Francesca Noelette ', 'Malaaz Ghandour', 'Jen Xu'), ('Siqi Liu', 'Cecilia Yao', 'Andrew Mayo'), ('Mark Steinbach', 'Brooke Bourgeois', 'Kamara Swaby'), ('Steph Ferrarie', 'Chris Jury', 'Kathryn Kearney'), (\"Camille N'Diaye-Muller\", 'Victoria', 'Ying Guo'), ('Katie Smilow ', 'Pieter weemaes', 'Meredith Clark'), ('William Chang', 'Lethu Ntshinga', None)]\n",
      "\n",
      "Saturday, 3/4  6:00\n",
      "[('Sarah Wu', 'Jullian Duran', 'Noemi Urquiza'), ('Celeste Mendoza', 'Uju Nwosu', 'Stephanie Guo')]\n",
      "\n",
      "Monday, 2/27  6:00\n",
      "[('Russell Pekala', 'Joey Colton', 'Natalie Vega', 'Christian Floyd'), ('Lucas Cassels', 'Tony Lin', 'Walker Maeder-York', None)]\n",
      "\n",
      "Monday, 3/6  5:00\n",
      "[('Ruiqi He', 'Belle Lee', 'Michael Ge')]\n",
      "\n",
      "Sunday, 3/5  6:30\n",
      "[('Chinaza', 'Nakoa Farrant', None)]\n",
      "\n",
      "Wednesday, 3/8  6:30\n",
      "[('noemi valdez', 'Charlotte Anrig', 'Eva DiIanni-Miller'), ('Natalie Antunez', 'Jason Goodman', 'Eva Miller'), ('Weimer Macuri-Espinoza', 'Jenna Gray', 'Eliza Llewellyn')]\n",
      "\n",
      "Wednesday, 3/1  6:00\n",
      "[('Joey Kubicki', 'Sophia Samutin ', 'Cynthia Kim')]\n",
      "\n",
      "Thursday, 3/9  6:30\n",
      "[('Jacob Meyerson', 'Andrea Schoenberg', 'Peter Tian'), ('AJ Protin', 'Brad Riew', 'Molly Leavens'), ('Wyatt Mackey', 'Eesha Khare', 'Amanda Brandt'), ('Ben Chen', 'Serena', 'Annie Frost'), ('Cecil ', 'Anna Lea Albright', None)]\n",
      "\n"
     ]
    }
   ],
   "source": [
    "times_to_pop = [] #delete empty times\n",
    "for t in result_dict:\n",
    "    if result_dict[t] == []:\n",
    "        times_to_pop.append(t)\n",
    "for p in times_to_pop:\n",
    "    result_dict.pop(p)\n",
    "\n",
    "#pretty print\n",
    "for t in result_dict:\n",
    "    print t\n",
    "    print result_dict[t]\n",
    "    print"
   ]
  },
  {
   "cell_type": "code",
   "execution_count": 158,
   "metadata": {
    "collapsed": false
   },
   "outputs": [
    {
     "name": "stdout",
     "output_type": "stream",
     "text": [
      "No one left over!\n"
     ]
    }
   ],
   "source": [
    "#ensure no one leftover\n",
    "if not bool(times_dict):\n",
    "    print \"No one left over!\"\n",
    "else:\n",
    "    print \"SOME PEOPLE UNGROUPED\"\n",
    "    print times_dict"
   ]
  },
  {
   "cell_type": "code",
   "execution_count": 164,
   "metadata": {
    "collapsed": false,
    "scrolled": false
   },
   "outputs": [
    {
     "data": {
      "text/html": [
       "<div>\n",
       "<table border=\"1\" class=\"dataframe\">\n",
       "  <thead>\n",
       "    <tr style=\"text-align: right;\">\n",
       "      <th></th>\n",
       "      <th>email</th>\n",
       "    </tr>\n",
       "  </thead>\n",
       "  <tbody>\n",
       "    <tr>\n",
       "      <th>Gita Abhiraman</th>\n",
       "      <td>gitaabhiraman@college.harvard.edu</td>\n",
       "    </tr>\n",
       "    <tr>\n",
       "      <th>Elaine</th>\n",
       "      <td>elainedai@college.harvard.edu</td>\n",
       "    </tr>\n",
       "    <tr>\n",
       "      <th>Mia Vitale</th>\n",
       "      <td>miavitale@college.harvard.edu</td>\n",
       "    </tr>\n",
       "    <tr>\n",
       "      <th>Eric Po</th>\n",
       "      <td>ericpo@college.harvard.edu</td>\n",
       "    </tr>\n",
       "    <tr>\n",
       "      <th>Devon Black</th>\n",
       "      <td>devonblack@college.harvard.edu</td>\n",
       "    </tr>\n",
       "  </tbody>\n",
       "</table>\n",
       "</div>"
      ],
      "text/plain": [
       "                                            email\n",
       "Gita Abhiraman  gitaabhiraman@college.harvard.edu\n",
       "Elaine              elainedai@college.harvard.edu\n",
       "Mia Vitale          miavitale@college.harvard.edu\n",
       "Eric Po                ericpo@college.harvard.edu\n",
       "Devon Black        devonblack@college.harvard.edu"
      ]
     },
     "execution_count": 164,
     "metadata": {},
     "output_type": "execute_result"
    }
   ],
   "source": [
    "names = []\n",
    "for timepoint in result_dict:\n",
    "    for pairing in result_dict[timepoint]:\n",
    "        for name in list(pairing):\n",
    "            if str(name) != 'None':\n",
    "                names.append(name)\n",
    "                \n",
    "emails = [data.ix[n,'email'] for n in names]\n",
    "email_out = pd.DataFrame(emails, index=names, columns=['email'])\n",
    "emails_out.head()"
   ]
  },
  {
   "cell_type": "code",
   "execution_count": null,
   "metadata": {
    "collapsed": true
   },
   "outputs": [],
   "source": [
    "#save emails\n",
    "emails_out.to_csv('emails_out.csv', sep=',')"
   ]
  }
 ],
 "metadata": {
  "anaconda-cloud": {},
  "kernelspec": {
   "display_name": "Python [Root]",
   "language": "python",
   "name": "Python [Root]"
  },
  "language_info": {
   "codemirror_mode": {
    "name": "ipython",
    "version": 2
   },
   "file_extension": ".py",
   "mimetype": "text/x-python",
   "name": "python",
   "nbconvert_exporter": "python",
   "pygments_lexer": "ipython2",
   "version": "2.7.12"
  }
 },
 "nbformat": 4,
 "nbformat_minor": 0
}
