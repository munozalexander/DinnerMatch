{
 "cells": [
  {
   "cell_type": "markdown",
   "metadata": {},
   "source": [
    "# DinnerMatch\n",
    "*** By Alexander Munoz ***"
   ]
  },
  {
   "cell_type": "code",
   "execution_count": 103,
   "metadata": {
    "collapsed": true
   },
   "outputs": [],
   "source": [
    "import pandas as pd\n",
    "import numpy as np\n",
    "from itertools import izip_longest"
   ]
  },
  {
   "cell_type": "code",
   "execution_count": 100,
   "metadata": {
    "collapsed": true
   },
   "outputs": [],
   "source": [
    "def grouper(iterable, n, fillvalue=None):\n",
    "    \"Collect data into fixed-length chunks or blocks\"\n",
    "    # Taken from itertools recipes:\n",
    "    # https://docs.python.org/2/library/itertools.html#recipes\n",
    "    # grouper('ABCDEFG', 3, 'x') --> ABC DEF Gxx\n",
    "    args = [iter(iterable)] * n\n",
    "    return izip_longest(fillvalue=fillvalue, *args)"
   ]
  },
  {
   "cell_type": "code",
   "execution_count": 81,
   "metadata": {
    "collapsed": false,
    "scrolled": true
   },
   "outputs": [
    {
     "name": "stdout",
     "output_type": "stream",
     "text": [
      "(73, 4)\n"
     ]
    },
    {
     "data": {
      "text/html": [
       "<div>\n",
       "<table border=\"1\" class=\"dataframe\">\n",
       "  <thead>\n",
       "    <tr style=\"text-align: right;\">\n",
       "      <th></th>\n",
       "      <th>email</th>\n",
       "      <th>times</th>\n",
       "      <th>friend_name</th>\n",
       "      <th>friend_email</th>\n",
       "    </tr>\n",
       "    <tr>\n",
       "      <th>name</th>\n",
       "      <th></th>\n",
       "      <th></th>\n",
       "      <th></th>\n",
       "      <th></th>\n",
       "    </tr>\n",
       "  </thead>\n",
       "  <tbody>\n",
       "    <tr>\n",
       "      <th>Eesha Khare</th>\n",
       "      <td>ekhare@college.harvard.edu</td>\n",
       "      <td>Wednesday, 3/8  6:00pm, Wednesday, 3/8  6:30pm...</td>\n",
       "      <td>Anne Deng</td>\n",
       "      <td>annedeng@college.harvard.edu</td>\n",
       "    </tr>\n",
       "    <tr>\n",
       "      <th>Kamara Swaby</th>\n",
       "      <td>kswaby01@college.harvard.edu</td>\n",
       "      <td>Monday, 2/27  5:00pm, Monday, 2/27  6:00pm, Mo...</td>\n",
       "      <td>NaN</td>\n",
       "      <td>NaN</td>\n",
       "    </tr>\n",
       "    <tr>\n",
       "      <th>Jacob Meyerson</th>\n",
       "      <td>jacobmeyerson@college.harvard.edu</td>\n",
       "      <td>Friday, 3/3  6:30pm, Tuesday, 3/7  6:30pm, Wed...</td>\n",
       "      <td>NaN</td>\n",
       "      <td>NaN</td>\n",
       "    </tr>\n",
       "    <tr>\n",
       "      <th>Pieter weemaes</th>\n",
       "      <td>Pweemaes@college.harvard.edu</td>\n",
       "      <td>Monday, 2/27  5:00pm, Monday, 2/27  6:00pm, Mo...</td>\n",
       "      <td>NaN</td>\n",
       "      <td>NaN</td>\n",
       "    </tr>\n",
       "    <tr>\n",
       "      <th>Russell Pekala</th>\n",
       "      <td>russellpekala@college.harvard.edu</td>\n",
       "      <td>Monday, 2/27  6:00pm, Monday, 2/27  6:30pm, Tu...</td>\n",
       "      <td>NaN</td>\n",
       "      <td>NaN</td>\n",
       "    </tr>\n",
       "  </tbody>\n",
       "</table>\n",
       "</div>"
      ],
      "text/plain": [
       "                                            email  \\\n",
       "name                                                \n",
       "Eesha Khare            ekhare@college.harvard.edu   \n",
       "Kamara Swaby         kswaby01@college.harvard.edu   \n",
       "Jacob Meyerson  jacobmeyerson@college.harvard.edu   \n",
       "Pieter weemaes       Pweemaes@college.harvard.edu   \n",
       "Russell Pekala  russellpekala@college.harvard.edu   \n",
       "\n",
       "                                                            times friend_name  \\\n",
       "name                                                                            \n",
       "Eesha Khare     Wednesday, 3/8  6:00pm, Wednesday, 3/8  6:30pm...   Anne Deng   \n",
       "Kamara Swaby    Monday, 2/27  5:00pm, Monday, 2/27  6:00pm, Mo...         NaN   \n",
       "Jacob Meyerson  Friday, 3/3  6:30pm, Tuesday, 3/7  6:30pm, Wed...         NaN   \n",
       "Pieter weemaes  Monday, 2/27  5:00pm, Monday, 2/27  6:00pm, Mo...         NaN   \n",
       "Russell Pekala  Monday, 2/27  6:00pm, Monday, 2/27  6:30pm, Tu...         NaN   \n",
       "\n",
       "                                friend_email  \n",
       "name                                          \n",
       "Eesha Khare     annedeng@college.harvard.edu  \n",
       "Kamara Swaby                             NaN  \n",
       "Jacob Meyerson                           NaN  \n",
       "Pieter weemaes                           NaN  \n",
       "Russell Pekala                           NaN  "
      ]
     },
     "execution_count": 81,
     "metadata": {},
     "output_type": "execute_result"
    }
   ],
   "source": [
    "data = pd.read_csv('data.csv')\n",
    "data = data.ix[:,[1,2,6,8,9]]\n",
    "data.columns = ['name', 'email', 'times', 'friend_name', 'friend_email']\n",
    "data = data.set_index('name')\n",
    "print data.shape\n",
    "data.head()"
   ]
  },
  {
   "cell_type": "code",
   "execution_count": 206,
   "metadata": {
    "collapsed": false,
    "scrolled": true
   },
   "outputs": [],
   "source": [
    "times_dict = dict() #key is name, value is list of available times\n",
    "for i in range(len(data['times'])):\n",
    "    time_list_buffer = data['times'][i].split('pm, ') #split times\n",
    "    time_list_buffer[-1] = time_list_buffer[-1][:-2] #remove last 'pm'\n",
    "    times_dict[data.index.values[i]] = time_list_buffer"
   ]
  },
  {
   "cell_type": "code",
   "execution_count": 207,
   "metadata": {
    "collapsed": false,
    "scrolled": true
   },
   "outputs": [
    {
     "name": "stdout",
     "output_type": "stream",
     "text": [
      "['Sunday, 3/5  6:30', 'Wednesday, 3/1  6:00', 'Wednesday, 3/8  6:30', 'Sunday, 3/5  6:00', 'Monday, 3/6  5:00', 'Thursday, 3/9  6:00', 'Tuesday, 3/7  5:00', 'Saturday, 3/4  6:00', 'Monday, 3/6  6:00', 'Monday, 2/27  6:00', 'Saturday, 3/4  5:00', 'Tuesday, 3/7  6:00', 'Tuesday, 2/28  5:00', 'Tuesday, 2/28  6:00', 'Thursday, 3/9  5:00', 'Sunday, 3/5  5:00', 'Tuesday, 3/7  6:30', 'Thursday, 3/9  6:30', 'Wednesday, 3/8  6:00', 'Thursday, 3/2  5:00', 'Monday, 2/27  5:00', 'Wednesday, 3/8  5:00', 'Wednesday, 3/1  6:30', 'Monday, 3/6  6:30', 'Friday, 3/3  6:00', 'Wednesday, 3/1  5:00', 'Thursday, 3/2  6:30', 'Saturday, 3/4  6:30', 'Tuesday, 2/28  6:30', 'Friday, 3/3  5:00', 'Monday, 2/27  6:30', 'Thursday, 3/2  6:00', 'Friday, 3/3  6:30']\n"
     ]
    }
   ],
   "source": [
    "times_options = set()\n",
    "for person in times_dict:\n",
    "    times_options = times_options.union(set(times_dict[person]))\n",
    "times_options = list(times_options)\n",
    "np.random.shuffle(times_options)\n",
    "print times_options"
   ]
  },
  {
   "cell_type": "code",
   "execution_count": 208,
   "metadata": {
    "collapsed": false,
    "scrolled": false
   },
   "outputs": [],
   "source": [
    "result_dict = dict()\n",
    "for curr_time in times_options:\n",
    "    curr_time_availables = []\n",
    "    for person in times_dict:\n",
    "        if curr_time in times_dict[person]:\n",
    "            curr_time_availables.append(person)\n",
    "    if len(curr_time_availables) == 1:\n",
    "        pass\n",
    "    else:\n",
    "        np.random.shuffle(curr_time_availables)\n",
    "        if len(curr_time_availables) % 3 == 0 or len(curr_time_availables) % 3 == 2:\n",
    "            result_dict[curr_time] = list(grouper(curr_time_availables, 3))\n",
    "        else:\n",
    "            result_dict[curr_time] = list(grouper(curr_time_availables, 4))\n",
    "        for p in curr_time_availables:\n",
    "            times_dict.pop(p) #remove people who have been picked, so they don't get picked twice"
   ]
  },
  {
   "cell_type": "code",
   "execution_count": 209,
   "metadata": {
    "collapsed": false
   },
   "outputs": [
    {
     "name": "stdout",
     "output_type": "stream",
     "text": [
      "Saturday, 3/4  5:00\n",
      "[('Gita Abhiraman', 'Elaine', None)]\n",
      "\n",
      "Thursday, 3/9  6:00\n",
      "[('Cecil ', 'Anna Lea Albright', None)]\n",
      "\n",
      "Saturday, 3/4  6:00\n",
      "[('Sarah Wu', 'Celeste Mendoza', 'Uju Nwosu'), ('Noemi Urquiza', 'Jullian Duran', None)]\n",
      "\n",
      "Monday, 3/6  5:00\n",
      "[('Cecilia Yao', 'Pieter weemaes', 'Lethu Ntshinga'), ('Arlesia McGowan', 'Andrew Mayo', None)]\n",
      "\n",
      "Sunday, 3/5  6:30\n",
      "[('Eric Po', 'Chinaza', 'Francesca Noelette '), ('Katie Smilow ', 'Brad Riew', 'Brooke Bourgeois'), ('Andrea Schoenberg', 'Kamara Swaby', 'Siqi Liu'), ('Justin Fox', 'Ying Guo', 'Joey Kubicki'), ('Serena', 'Walker Maeder-York', 'Amanda Brandt'), ('Stephanie Guo', 'Steph Ferrarie', 'Jason Goodman'), ('Ben Chen', 'Devon Black', 'Christian Floyd'), ('Cass Hastie', 'Lucas Cassels', 'Russell Pekala'), ('Eva DiIanni-Miller', 'Jenna Gray', 'Nakoa Farrant'), ('Jen Xu', 'Peter Tian', 'Victoria'), (\"Camille N'Diaye-Muller\", 'Chris Jury', 'Michael Ge')]\n",
      "\n",
      "Wednesday, 3/8  6:30\n",
      "[('noemi valdez', 'Eesha Khare', 'Molly Leavens'), ('William Chang', 'Jacob Meyerson', 'Eva Miller')]\n",
      "\n",
      "Wednesday, 3/1  6:00\n",
      "[('Weimer Macuri-Espinoza', 'Eliza Llewellyn', 'Belle Lee', 'AJ Protin'), ('Annie Frost', 'Tony Lin', 'Sophia Samutin ', 'Mia Vitale'), ('Wyatt Mackey', 'Malaaz Ghandour', 'Kathryn Kearney', 'Joey Colton'), ('Natalie Antunez', 'Charlotte Anrig', 'Cynthia Kim', 'Mark Steinbach'), ('Ruiqi He', 'Natalie Vega', 'Meredith Clark', None)]\n",
      "\n"
     ]
    }
   ],
   "source": [
    "times_to_pop = []\n",
    "for t in result_dict:\n",
    "    if result_dict[t] == []:\n",
    "        times_to_pop.append(t)\n",
    "for p in times_to_pop:\n",
    "    result_dict.pop(p)\n",
    "for t in result_dict:\n",
    "    print t\n",
    "    print result_dict[t]\n",
    "    print"
   ]
  },
  {
   "cell_type": "code",
   "execution_count": 210,
   "metadata": {
    "collapsed": false
   },
   "outputs": [
    {
     "name": "stdout",
     "output_type": "stream",
     "text": [
      "No one left over!\n"
     ]
    }
   ],
   "source": [
    "#ensure no one leftover\n",
    "if not bool(times_dict):\n",
    "    print \"No one left over!\"\n",
    "else:\n",
    "    print \"SOME PEOPLE UNGROUPED\"\n",
    "    print times_dict"
   ]
  },
  {
   "cell_type": "code",
   "execution_count": null,
   "metadata": {
    "collapsed": true
   },
   "outputs": [],
   "source": []
  }
 ],
 "metadata": {
  "anaconda-cloud": {},
  "kernelspec": {
   "display_name": "Python [Root]",
   "language": "python",
   "name": "Python [Root]"
  },
  "language_info": {
   "codemirror_mode": {
    "name": "ipython",
    "version": 2
   },
   "file_extension": ".py",
   "mimetype": "text/x-python",
   "name": "python",
   "nbconvert_exporter": "python",
   "pygments_lexer": "ipython2",
   "version": "2.7.12"
  }
 },
 "nbformat": 4,
 "nbformat_minor": 0
}
